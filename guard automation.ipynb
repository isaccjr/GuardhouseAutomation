{
 "cells": [
  {
   "cell_type": "code",
   "execution_count": 24,
   "metadata": {},
   "outputs": [
    {
     "name": "stderr",
     "output_type": "stream",
     "text": [
      "Neither CUDA nor MPS are available - defaulting to CPU. Note: This module is much faster with a GPU.\n"
     ]
    },
    {
     "name": "stdout",
     "output_type": "stream",
     "text": [
      "Texto: DlsEOVERs, Confiança: 0.2485222514511449\n",
      "Texto: sL, Confiança: 0.13545443916121866\n",
      "Texto: ProgFoD, Confiança: 0.2931641876061566\n"
     ]
    }
   ],
   "source": [
    "import easyocr\n",
    "from PIL import Image\n",
    "\n",
    "# Crie um leitor (reader)\n",
    "reader = easyocr.Reader(['pt'])  # Especifica o idioma\n",
    "\n",
    "# Ler o texto da imagem\n",
    "results = reader.readtext('6.jpg')\n",
    "\n",
    "# Imprimir os resultados\n",
    "for (bbox, text, prob) in results:\n",
    "    print(f'Texto: {text}, Confiança: {prob}')\n"
   ]
  },
  {
   "cell_type": "code",
   "execution_count": 17,
   "metadata": {},
   "outputs": [
    {
     "name": "stderr",
     "output_type": "stream",
     "text": [
      "Neither CUDA nor MPS are available - defaulting to CPU. Note: This module is much faster with a GPU.\n"
     ]
    },
    {
     "name": "stdout",
     "output_type": "stream",
     "text": [
      "Texto: @YF5J92, Confiança: 0.8342566675176543\n"
     ]
    }
   ],
   "source": [
    "import cv2\n",
    "import easyocr\n",
    "\n",
    "# Carregar a imagem em escala de cinza\n",
    "image = cv2.imread('5.jpg', cv2.IMREAD_GRAYSCALE)\n",
    "\n",
    "image_contraste = cv2.equalizeHist(image)\n",
    "\n",
    "# Aplicar Unsharp Masking\n",
    "gaussian_blur = cv2.GaussianBlur(image_contraste, (9, 9), 10.0)\n",
    "sharpened = cv2.addWeighted(image_contraste, 1.5, gaussian_blur, -0.5, 0)\n",
    "\n",
    "# Salvar a imagem ajustada\n",
    "cv2.imwrite('imagem_nitida.jpg', sharpened)\n",
    "\n",
    "# Ler a imagem ajustada\n",
    "reader = easyocr.Reader(['pt'])\n",
    "results = reader.readtext(sharpened, text_threshold=0.7, low_text=0.4, link_threshold=0.4)\n",
    "\n",
    "# Imprimir os resultados\n",
    "for (bbox, text, prob) in results:\n",
    "    print(f'Texto: {text}, Confiança: {prob}')\n"
   ]
  },
  {
   "cell_type": "code",
   "execution_count": 25,
   "metadata": {},
   "outputs": [
    {
     "name": "stderr",
     "output_type": "stream",
     "text": [
      "Neither CUDA nor MPS are available - defaulting to CPU. Note: This module is much faster with a GPU.\n"
     ]
    },
    {
     "name": "stdout",
     "output_type": "stream",
     "text": [
      "placa\n",
      "Texto: lesl, Confiança: 0.0570419542491436\n",
      "Texto: Pro8Foo, Confiança: 0.4702001546750024\n"
     ]
    }
   ],
   "source": [
    "import cv2\n",
    "import easyocr\n",
    "import numpy as np\n",
    "\n",
    "# Carregar os nomes das classes\n",
    "with open(\"classes.names\", \"r\") as f:\n",
    "    classes = [line.strip() for line in f.readlines()]\n",
    "\n",
    "# Carregar o modelo YOLO pré-treinado e as classes\n",
    "net = cv2.dnn.readNet(\"custom-yolov4-detector_final.weights\", \"custom-yolov4-detector.cfg\")\n",
    "layer_names = net.getLayerNames()\n",
    "output_layers = [layer_names[i - 1] for i in net.getUnconnectedOutLayers()]\n",
    "\n",
    "# Carregar a imagem\n",
    "image = cv2.imread('6.jpg')\n",
    "height, width, channels = image.shape\n",
    "\n",
    "# Preparar a imagem para YOLO\n",
    "blob = cv2.dnn.blobFromImage(image, 0.00392, (416, 416), (0, 0, 0), True, crop=False)\n",
    "net.setInput(blob)\n",
    "outs = net.forward(output_layers)\n",
    "\n",
    "# Processar as detecções\n",
    "class_ids = []\n",
    "confidences = []\n",
    "boxes = []\n",
    "\n",
    "for out in outs:\n",
    "    for detection in out:\n",
    "        scores = detection[5:]\n",
    "        class_id = np.argmax(scores)\n",
    "        confidence = scores[class_id]\n",
    "        if confidence > 0.5:  # Ajuste o limiar de confiança conforme necessário\n",
    "            center_x = int(detection[0] * width)\n",
    "            center_y = int(detection[1] * height)\n",
    "            w = int(detection[2] * width)\n",
    "            h = int(detection[3] * height)\n",
    "            x = int(center_x - w / 2)\n",
    "            y = int(center_y - h / 2)\n",
    "            boxes.append([x, y, w, h])\n",
    "            confidences.append(float(confidence))\n",
    "            class_ids.append(class_id)\n",
    "\n",
    "# Aplicar Non-Max Suppression\n",
    "indices = cv2.dnn.NMSBoxes(boxes, confidences, 0.5, 0.4)\n",
    "\n",
    "# Cortar a região da placa\n",
    "for i in range(len(boxes)):\n",
    "    if i in indices:\n",
    "        x, y, w, h = boxes[i]\n",
    "        label = str(classes[class_ids[i]])\n",
    "        print(label)\n",
    "        if label == \"placa\":  # Certifique-se de que a classe está correta\n",
    "            roi = image[y:y+h, x:x+w]\n",
    "            # Salvar a região da placa\n",
    "            cv2.imwrite('placa.jpg', roi)\n",
    "\n",
    "# Ler a região da placa usando EasyOCR\n",
    "reader = easyocr.Reader(['pt'])\n",
    "results = reader.readtext('placa.jpg')\n",
    "\n",
    "# Imprimir os resultados\n",
    "for (bbox, text, prob) in results:\n",
    "    print(f'Texto: {text}, Confiança: {prob}')\n"
   ]
  },
  {
   "cell_type": "code",
   "execution_count": 1,
   "metadata": {},
   "outputs": [],
   "source": [
    "import os\n",
    "# Obter o caminho absoluto do arquivo de credenciais na pasta atual do projeto\n",
    "current_directory = os.getcwd()\n",
    "credential_path = os.path.join(current_directory, \"application_default_credentials.json\")\n",
    "\n",
    "# Definir a variável de ambiente GOOGLE_APPLICATION_CREDENTIALS\n",
    "os.environ[\"GOOGLE_APPLICATION_CREDENTIALS\"] = credential_path\n"
   ]
  },
  {
   "cell_type": "code",
   "execution_count": null,
   "metadata": {},
   "outputs": [
    {
     "name": "stdout",
     "output_type": "stream",
     "text": [
      "Texto detectado: ◄ Busca.\n",
      "21:36\n",
      "HABILITAÇÃO\n",
      "Atualizado em: 10/12/2024 - 21:30:10\n",
      "Verifique autenticidade do QR Code com o app Vio\n",
      "VÁLIDA EM TODO\n",
      "O TERRITÓRIO NACIONAL\n",
      "2259590237\n",
      "REPÚBLICA FEDERATIVA DO BRASIL\n",
      "MINISTÉRIO DA INFRAESTRUTURA\n",
      "DEPARTAMENTO NACIONAL DE TRÂNSITO\n",
      "CARTEIRA NACIONAL DE HABILITAÇÃO\n",
      "NOME\n",
      "ISAC SOARES CAMARA JUNIOR\n",
      "DOC. IDENTIDADE/ORG EMISSOR/UF\n",
      "2617795 SSP DF\n",
      "CPF\n",
      "016.016.291-25\n",
      "-FILIAÇÃO\n",
      "ISAC SOARES CAMARA\n",
      "DATA NASCIMENTO-\n",
      "19/09/1987\n",
      "N° REGISTRO\n",
      "03931237097\n",
      "VALIDADE\n",
      "22/06/2031\n",
      "B\n",
      "CAT. HAB.-\n",
      "1 HABILITAÇÃO\n",
      "16/09/2006\n",
      "MIRIAN ANDRELINO SOARES CAM\n",
      "ARA\n",
      "PERMISSÃO\n",
      "ACC\n",
      "D\n",
      "OF\n",
      "Histórico de emissões da CNH\n",
      "Placas encontradas: Nenhuma placa encontrada no texto detectado.\n"
     ]
    }
   ],
   "source": [
    "import os\n",
    "from google.cloud import vision\n",
    "import re\n",
    "\n",
    "\n",
    "# Configura o cliente da API\n",
    "client = vision.ImageAnnotatorClient()\n",
    "\n",
    "def extract_license_plate(image_path):\n",
    "    try:\n",
    "        with open(image_path, 'rb') as image_file:\n",
    "            content = image_file.read()\n",
    "\n",
    "        image = vision.Image(content=content)\n",
    "        response = client.text_detection(image=image)\n",
    "        texts = response.text_annotations\n",
    "\n",
    "        if not texts:\n",
    "            return \"Nenhum texto detectado na imagem.\"\n",
    "\n",
    "        full_text = texts[0].description\n",
    "        print(f\"Texto detectado: {full_text}\")\n",
    "\n",
    "        plate_pattern = r'[A-Z]{3}[0-9][A-Z0-9][0-9]{2}'\n",
    "        matches = re.findall(plate_pattern, full_text)\n",
    "\n",
    "        if matches:\n",
    "            return matches\n",
    "        else:\n",
    "            return \"Nenhuma placa encontrada no texto detectado.\"\n",
    "    except Exception as e:\n",
    "        print(f\"Erro ao processar a imagem: {e}\")\n",
    "        return None\n",
    "\n",
    "# Exemplo de uso\n",
    "image_path = \"8.PNG\"  # Substitua pelo caminho da sua imagem\n",
    "plates = extract_license_plate(image_path)\n",
    "print(f\"Placas encontradas: {plates}\")\n"
   ]
  },
  {
   "cell_type": "code",
   "execution_count": 10,
   "metadata": {},
   "outputs": [
    {
     "name": "stdout",
     "output_type": "stream",
     "text": [
      "imagens\\documentos\\1.jpg\n",
      "imagens\\documentos\\2.jpg\n",
      "imagens\\documentos\\3.jpg\n"
     ]
    }
   ],
   "source": [
    "#listando arquivos do diretorio\n",
    "from pathlib import Path\n",
    "\n",
    "diretorio = Path(\"imagens/documentos\")\n",
    "\n",
    "# Listar todos os arquivos\n",
    "for arquivo in diretorio.iterdir():\n",
    "    if arquivo.is_file():\n",
    "        print(arquivo)"
   ]
  },
  {
   "cell_type": "code",
   "execution_count": 9,
   "metadata": {},
   "outputs": [
    {
     "name": "stdout",
     "output_type": "stream",
     "text": [
      "2024:12:09 22:01:55\n"
     ]
    }
   ],
   "source": [
    "#extraindo metadados\n",
    "import exifread\n",
    "\n",
    "def get_image_datetime(image_path):\n",
    "    with open(image_path, 'rb') as f:\n",
    "        tags = exifread.process_file(f)\n",
    "\n",
    "        # A data e hora geralmente estão em tags como 'DateTimeOriginal' ou 'DateTimeDigitized'\n",
    "        datetime_original = tags.get('EXIF DateTimeOriginal')\n",
    "        datetime_digitized = tags.get('EXIF DateTimeDigitized')\n",
    "\n",
    "        if datetime_original:\n",
    "            return datetime_original.values\n",
    "        elif datetime_digitized:\n",
    "            return datetime_digitized.values\n",
    "        else:\n",
    "            return \"Data não encontrada nos metadados EXIF\"\n",
    "\n",
    "# Substitua 'caminho/para/sua/imagem.jpg' pelo caminho da sua imagem\n",
    "image_path = 'imagens/documentos/1.jpg'\n",
    "datetime = get_image_datetime(image_path)\n",
    "print(datetime)"
   ]
  },
  {
   "cell_type": "code",
   "execution_count": 15,
   "metadata": {},
   "outputs": [],
   "source": [
    "#listando arquivos do diretorio\n",
    "from pathlib import Path\n",
    "def list_files():\n",
    "    dir_docs = Path(\"imagens/documentos\")\n",
    "    dir_plates = Path(\"imagens/placas\")\n",
    "    docs_paths=[file for file in dir_docs.iterdir() if file.is_file()]\n",
    "    plates_paths = [file for file in dir_plates.iterdir() if file.is_file()]\n",
    "    return docs_paths,plates_paths\n"
   ]
  },
  {
   "cell_type": "code",
   "execution_count": 17,
   "metadata": {},
   "outputs": [],
   "source": [
    "docs_paths, plates_paths = list_files()"
   ]
  },
  {
   "cell_type": "code",
   "execution_count": 19,
   "metadata": {},
   "outputs": [
    {
     "data": {
      "text/plain": [
       "'2024:12:09 22:01:55'"
      ]
     },
     "execution_count": 19,
     "metadata": {},
     "output_type": "execute_result"
    }
   ],
   "source": [
    "get_image_datetime(docs_paths[0])"
   ]
  },
  {
   "cell_type": "code",
   "execution_count": 26,
   "metadata": {},
   "outputs": [],
   "source": [
    "docs_dates = list(map(get_image_datetime,docs_paths))"
   ]
  },
  {
   "cell_type": "code",
   "execution_count": 27,
   "metadata": {},
   "outputs": [
    {
     "data": {
      "text/plain": [
       "['2024:12:09 22:01:55', '2024:12:10 22:01:01', '2024:12:11 22:37:48']"
      ]
     },
     "execution_count": 27,
     "metadata": {},
     "output_type": "execute_result"
    }
   ],
   "source": [
    "docs_dates"
   ]
  },
  {
   "cell_type": "code",
   "execution_count": 36,
   "metadata": {},
   "outputs": [
    {
     "data": {
      "text/plain": [
       "[(WindowsPath('imagens/documentos/1.jpg'), '2024:12:09 22:01:55'),\n",
       " (WindowsPath('imagens/documentos/2.jpg'), '2024:12:10 22:01:01'),\n",
       " (WindowsPath('imagens/documentos/3.jpg'), '2024:12:11 22:37:48')]"
      ]
     },
     "execution_count": 36,
     "metadata": {},
     "output_type": "execute_result"
    }
   ],
   "source": [
    "list(zip(docs_paths,docs_dates))"
   ]
  },
  {
   "cell_type": "code",
   "execution_count": 35,
   "metadata": {},
   "outputs": [
    {
     "name": "stdout",
     "output_type": "stream",
     "text": [
      "(WindowsPath('imagens/documentos/1.jpg'), '2024:12:09 22:01:55')\n",
      "(WindowsPath('imagens/documentos/2.jpg'), '2024:12:10 22:01:01')\n",
      "(WindowsPath('imagens/documentos/3.jpg'), '2024:12:11 22:37:48')\n"
     ]
    }
   ],
   "source": [
    "docs_paths_dates = list(zip(docs_paths,docs_dates))\n",
    "#Organizando por data\n",
    "from datetime import datetime\n",
    "\n",
    "# Função para converter a string de data em um objeto datetime\n",
    "def parse_datetime(date_str):\n",
    "    return datetime.strptime(date_str, '%Y:%m:%d %H:%M:%S')\n",
    "\n",
    "# Organizar a lista pela data\n",
    "sorted_docs_dates = sorted(docs_paths_dates, key=lambda x: parse_datetime(x[1]))\n",
    "\n",
    "# Exibir a lista organizada\n",
    "for doc in sorted_docs_dates:\n",
    "    print(doc)\n"
   ]
  },
  {
   "cell_type": "code",
   "execution_count": 37,
   "metadata": {},
   "outputs": [],
   "source": [
    "def sort_by_date(files_path):\n",
    "    files_date = list(map(get_image_datetime,files_path))\n",
    "    files_path_date = list(zip(files_path,files_date))\n",
    "    sorted_files_date = sorted(files_path_date, key=lambda x: parse_datetime(x[1]))\n",
    "    return sorted_files_date"
   ]
  },
  {
   "cell_type": "code",
   "execution_count": 40,
   "metadata": {},
   "outputs": [],
   "source": [
    "sorted_plates_dates = sort_by_date(plates_paths)"
   ]
  },
  {
   "cell_type": "code",
   "execution_count": 41,
   "metadata": {},
   "outputs": [
    {
     "data": {
      "text/plain": [
       "[(WindowsPath('imagens/placas/5.jpg'), '2024:12:09 23:04:10'),\n",
       " (WindowsPath('imagens/placas/6.jpg'), '2024:12:10 23:04:27'),\n",
       " (WindowsPath('imagens/placas/7.jpg'), '2024:12:11 23:04:42')]"
      ]
     },
     "execution_count": 41,
     "metadata": {},
     "output_type": "execute_result"
    }
   ],
   "source": [
    "sorted_plates_dates"
   ]
  },
  {
   "cell_type": "code",
   "execution_count": 42,
   "metadata": {},
   "outputs": [],
   "source": [
    "docs_img_list = []\n",
    "plates_img_list = []\n",
    "for path in sorted_docs_dates:\n",
    "    try:\n",
    "        image_path = path[0]\n",
    "        with open(image_path, 'rb') as image_file:\n",
    "                content = image_file.read()  \n",
    "    except:\n",
    "        print('Deu ruim')\n",
    "    docs_img_list.append(content)\n",
    "for path in sorted_plates_dates:\n",
    "    try:\n",
    "        image_path = path[0]\n",
    "        with open(image_path, 'rb') as image_file:\n",
    "                content = image_file.read()  \n",
    "    except:\n",
    "        print('Deu ruim')\n",
    "    plates_img_list.append(content)"
   ]
  },
  {
   "cell_type": "code",
   "execution_count": 49,
   "metadata": {},
   "outputs": [],
   "source": [
    "imgs_list =  [item for pair in zip(docs_img_list, plates_img_list) for item in pair]"
   ]
  },
  {
   "cell_type": "code",
   "execution_count": 75,
   "metadata": {},
   "outputs": [],
   "source": [
    "import base64\n",
    "with open('imagens/documentos/1.jpg', 'rb') as f:\n",
    "    img1 = base64.b64encode(f.read()).decode('utf-8')\n",
    "\n",
    "with open('imagens/placas/5.jpg', 'rb') as f:\n",
    "    img2 = base64.b64encode(f.read()).decode('utf-8')"
   ]
  },
  {
   "cell_type": "code",
   "execution_count": null,
   "metadata": {},
   "outputs": [
    {
     "name": "stdout",
     "output_type": "stream",
     "text": [
      "Organizado 23 arquivos por data\n",
      "Organizado 23 arquivos por data\n"
     ]
    }
   ],
   "source": [
    "import io\n",
    "from pathlib import Path #ler os diretorios e listar arquivos\n",
    "import exifread #Para ler os metadados de data\n",
    "from datetime import datetime\n",
    "import base64 #converter pra o que o vertex entende\n",
    "import vertexai\n",
    "from vertexai.generative_models import GenerativeModel, Part, SafetySetting\n",
    "import pandas as pd\n",
    "from io import StringIO\n",
    "\n",
    "#lista arquivos do diretorios documentos e placas\n",
    "def list_files(verbose=1):\n",
    "    dir_docs = Path(\"imagens/documentos\")\n",
    "    dir_plates = Path(\"imagens/placas\")\n",
    "    docs_paths=[file for file in dir_docs.iterdir() if file.is_file()]\n",
    "    plates_paths = [file for file in dir_plates.iterdir() if file.is_file()]\n",
    "    if verbose:\n",
    "        print(f'Encontrados {len(docs_paths)} na pasta documentos')\n",
    "        print(f'Encontrado {len(plates_paths)} na pasta de placas')\n",
    "    return docs_paths,plates_paths\n",
    "\n",
    "#extraindo metadados\n",
    "# Recebe um caminho para arquivo de imagem e pega a data do EXIF\n",
    "def get_image_datetime(image_path):\n",
    "    with open(image_path, 'rb') as f:\n",
    "        tags = exifread.process_file(f)\n",
    "\n",
    "        # A data e hora geralmente estão em tags como 'DateTimeOriginal' ou 'DateTimeDigitized'\n",
    "        datetime_original = tags.get('EXIF DateTimeOriginal')\n",
    "        datetime_digitized = tags.get('EXIF DateTimeDigitized')\n",
    "\n",
    "        if datetime_original:\n",
    "            return datetime_original.values\n",
    "        elif datetime_digitized:\n",
    "            return datetime_digitized.values\n",
    "        else:\n",
    "            return \"Data não encontrada nos metadados EXIF\"\n",
    "        \n",
    "\n",
    "\n",
    "# Função para converter a string de data em um objeto datetime\n",
    "def parse_datetime(date_str):\n",
    "    return datetime.strptime(date_str, '%Y:%m:%d %H:%M:%S')\n",
    "\n",
    "\n",
    "#Organiza por data  \n",
    "#Recebe uma lista de caminhos para arquivos, paga a data do EXIF de cada com a função get_image_datetime\n",
    "#Organiza em uma tupla caminho do arquivo, data da foto.\n",
    "# Organiza por data \n",
    "# Retorna a lista organizada por data \n",
    "def sort_by_date(files_path, verbose=1):\n",
    "    files_date = list(map(get_image_datetime,files_path))\n",
    "    files_path_date = list(zip(files_path,files_date))\n",
    "    sorted_files_date = sorted(files_path_date, key=lambda x: parse_datetime(x[1]))\n",
    "    if verbose:\n",
    "        print(f'Organizado {len(sorted_files_date)} arquivos por data')\n",
    "    return sorted_files_date\n",
    "\n",
    "def img_list_loader(list_of_img_path, verbose=1):\n",
    "    img_list = []\n",
    "    if verbose:\n",
    "        print(f'Carregando {len(list_of_img_path)} imagens')\n",
    "    for path in list_of_img_path:\n",
    "        try:\n",
    "            image_path = path[0]\n",
    "            with open(image_path, 'rb') as image_file:\n",
    "                    content = image_file.read()  \n",
    "        except:\n",
    "            print('Deu ruim')\n",
    "        img_list.append(content)\n",
    "    if verbose:\n",
    "        print(f'Carregado {len(img_list)} para memória')\n",
    "    return img_list\n",
    "\n",
    "#Converte para o formato que o vertexAI entende\n",
    "def vertex_img_converter(img):\n",
    "    encoded_img = base64.b64encode(img).decode('utf-8')\n",
    "    vertex_img = Part.from_data(mime_type=\"image/jpeg\",data=base64.b64decode(encoded_img))\n",
    "    return vertex_img\n",
    "\n",
    "def convert_to_excel(output, file_name=\"output\"):\n",
    "    # Converter a saída para um DataFrame do pandas \n",
    "    output_io = StringIO(output)\n",
    "    df = pd.read_table(output_io, sep=\"|\", skiprows=0, skipinitialspace=True).reindex()\n",
    "    df.dropna(axis=1, how=\"all\", inplace=True)\n",
    "    df.drop(index=0, inplace=True)\n",
    "    # Salvar como arquivo Excel \n",
    "    df.to_excel(f\"{file_name}.xlsx\", index=False, engine=\"openpyxl\") \n",
    "\n",
    "\n",
    "#Gera tabela com nome do condutor,rg,cpf, placa, modelo e marca do carro.\n",
    "def generate(verbose=1):\n",
    "\n",
    "    #lista os arquivos nas pastas de documentos e de fotos das placas\n",
    "    docs_paths, plates_paths = list_files(verbose=verbose) \n",
    "    #pega as datas das fotos e organiza pelas datas\n",
    "    sorted_docs_dates, sorted_plates_dates = sort_by_date(docs_paths,verbose=verbose), sort_by_date(plates_paths,verbose=verbose)\n",
    "    #carrega as imagens e coloca em um lista\n",
    "    docs_img_list, plates_img_list = img_list_loader(sorted_docs_dates,verbose=verbose), img_list_loader(sorted_plates_dates, verbose=verbose)\n",
    "    #organiza em um lista só primeiro documento depois placa\n",
    "    if verbose: print('Organizando documentos e placas, um a um')\n",
    "    imgs_list =  [item for pair in zip(docs_img_list, plates_img_list) for item in pair]\n",
    "    #converte para o formato entendido pelo vertex\n",
    "    if verbose: print('Convertendo imagens para formato da API Google Cloud Vertex AI')\n",
    "    vertex_imgs_list = list(map(vertex_img_converter,imgs_list))\n",
    "    if verbose: print('Iniciando chamada para API')    \n",
    "\n",
    "    vertexai.init(project=\"guardautomation\", location=\"southamerica-east1\")\n",
    "    model = GenerativeModel(\n",
    "        \"gemini-1.5-pro-002\",\n",
    "    )\n",
    "    # Combina as imagens com o prompt\n",
    "    prompt = vertex_imgs_list + [text1]\n",
    "    responses = model.generate_content(\n",
    "        prompt,\n",
    "        generation_config=generation_config,\n",
    "        safety_settings=safety_settings,\n",
    "        stream=True,\n",
    "    )\n",
    "\n",
    "    # Usar StringIO para capturar a saída do loop de impressão \n",
    "    output_buffer = io.StringIO()\n",
    "    if verbose: print('Recebendo resposta', end='') \n",
    "    for response in responses:\n",
    "        if verbose: print('.',end='') \n",
    "        output_buffer.write(response.text) \n",
    "    \n",
    "    # Salvar a saída na variável output \n",
    "    output = output_buffer.getvalue() \n",
    "    output_buffer.close() \n",
    "    if verbose:\n",
    "        print('')\n",
    "        print('Resposta recebida')\n",
    "    return output\n",
    "\n",
    "text1 = \"\"\"Crie uma tabela com a placa, modelo, marca do carro, cor,  nome, cpf, rg. \n",
    "Nome, cpf e rg estão nas imagens posteriores a dos carros, \n",
    "a imagem 1 com a 2 e a 3 com a 4 e assim posteriormente.\n",
    "rg é geralmente identificado por doc. identidade e seguido pelo orgão emissor, cpf tem 11 digitos.\n",
    "Se for possivel retirar algum dados de alguma foto marque a informação com ilegível. \n",
    "Responda somente a tabela nada além da tabela, sem texto antes ou depois da tabela\"\"\"\n",
    "\n",
    "generation_config = {\n",
    "    \"max_output_tokens\": 8192,\n",
    "    \"temperature\": 0,\n",
    "    \"top_p\": 0.95,\n",
    "}\n",
    "\n",
    "safety_settings = [\n",
    "    SafetySetting(\n",
    "        category=SafetySetting.HarmCategory.HARM_CATEGORY_HATE_SPEECH,\n",
    "        threshold=SafetySetting.HarmBlockThreshold.OFF\n",
    "    ),\n",
    "    SafetySetting(\n",
    "        category=SafetySetting.HarmCategory.HARM_CATEGORY_DANGEROUS_CONTENT,\n",
    "        threshold=SafetySetting.HarmBlockThreshold.OFF\n",
    "    ),\n",
    "    SafetySetting(\n",
    "        category=SafetySetting.HarmCategory.HARM_CATEGORY_SEXUALLY_EXPLICIT,\n",
    "        threshold=SafetySetting.HarmBlockThreshold.OFF\n",
    "    ),\n",
    "    SafetySetting(\n",
    "        category=SafetySetting.HarmCategory.HARM_CATEGORY_HARASSMENT,\n",
    "        threshold=SafetySetting.HarmBlockThreshold.OFF\n",
    "    ),\n",
    "]\n",
    "\n",
    "output = generate(verbose=False)\n",
    "#convert_to_excel(output)\n",
    "#print(output)\n"
   ]
  },
  {
   "cell_type": "code",
   "execution_count": 5,
   "metadata": {},
   "outputs": [],
   "source": [
    "from google.cloud import storage\n",
    "import uuid\n",
    "import os\n",
    "\n",
    "def generate_uuid():\n",
    "   uuid_str = str(uuid.uuid4())\n",
    "   return uuid_str\n",
    "\n",
    "def upload_imgs(imgs,img_type, uuid_str):\n",
    "    \"\"\"Uploads imagens para o Cloud Storage usando um UUID como prefixo.\"\"\"\n",
    "\n",
    "    storage_client = storage.Client()\n",
    "    bucket_name = \"guardhouse_automation_bucket\"\n",
    "    bucket = storage_client.bucket(bucket_name)\n",
    "    remote_files = []\n",
    "    for img in imgs:\n",
    "      file_name = os.path.basename(img)\n",
    "      remote_name = f\"{uuid_str}/{img_type}/{file_name}\" # nome do arquivo com o prefixo UUID\n",
    "      blob = bucket.blob(remote_name)\n",
    "      blob.upload_from_filename(img)\n",
    "      url_img = blob.public_url\n",
    "      remote_files.append(url_img)\n",
    "      print(f\"Imagem {file_name} enviada para {url_img}.\")\n",
    "\n",
    "    return remote_files # retorna uma lista de links publicos e o UUID\n",
    "\n",
    "def deletar_pastas(uuid_str):\n",
    "  storage_client = storage.Client()\n",
    "  bucket_name = \"guardhouse_automation_bucket\"\n",
    "  bucket = storage_client.bucket(bucket_name)\n",
    "  blobs = bucket.list_blobs(prefix=f\"{uuid_str}/\") #lista todos arquivos com prefixo\n",
    "  for blob in blobs:\n",
    "    blob.delete()\n",
    "  print(f\"Pasta com UUID {uuid_str} deletada.\")\n"
   ]
  },
  {
   "cell_type": "code",
   "execution_count": 10,
   "metadata": {},
   "outputs": [
    {
     "name": "stdout",
     "output_type": "stream",
     "text": [
      "Imagem 1.jpg enviada para https://storage.googleapis.com/guardhouse_automation_bucket/9eb3c337-bccf-400b-920e-60c7ff2a42b4/documentos/1.jpg.\n",
      "Imagem 10.jpg enviada para https://storage.googleapis.com/guardhouse_automation_bucket/9eb3c337-bccf-400b-920e-60c7ff2a42b4/documentos/10.jpg.\n",
      "Imagem 11.jpg enviada para https://storage.googleapis.com/guardhouse_automation_bucket/9eb3c337-bccf-400b-920e-60c7ff2a42b4/documentos/11.jpg.\n",
      "Imagem 13.jpg enviada para https://storage.googleapis.com/guardhouse_automation_bucket/9eb3c337-bccf-400b-920e-60c7ff2a42b4/documentos/13.jpg.\n",
      "Imagem 14.jpg enviada para https://storage.googleapis.com/guardhouse_automation_bucket/9eb3c337-bccf-400b-920e-60c7ff2a42b4/documentos/14.jpg.\n",
      "Imagem 15.jpg enviada para https://storage.googleapis.com/guardhouse_automation_bucket/9eb3c337-bccf-400b-920e-60c7ff2a42b4/documentos/15.jpg.\n",
      "Imagem 16.jpg enviada para https://storage.googleapis.com/guardhouse_automation_bucket/9eb3c337-bccf-400b-920e-60c7ff2a42b4/documentos/16.jpg.\n",
      "Imagem 17.jpg enviada para https://storage.googleapis.com/guardhouse_automation_bucket/9eb3c337-bccf-400b-920e-60c7ff2a42b4/documentos/17.jpg.\n",
      "Imagem 18.jpg enviada para https://storage.googleapis.com/guardhouse_automation_bucket/9eb3c337-bccf-400b-920e-60c7ff2a42b4/documentos/18.jpg.\n",
      "Imagem 19.jpg enviada para https://storage.googleapis.com/guardhouse_automation_bucket/9eb3c337-bccf-400b-920e-60c7ff2a42b4/documentos/19.jpg.\n",
      "Imagem 2.jpg enviada para https://storage.googleapis.com/guardhouse_automation_bucket/9eb3c337-bccf-400b-920e-60c7ff2a42b4/documentos/2.jpg.\n",
      "Imagem 20.jpg enviada para https://storage.googleapis.com/guardhouse_automation_bucket/9eb3c337-bccf-400b-920e-60c7ff2a42b4/documentos/20.jpg.\n",
      "Imagem 21.jpg enviada para https://storage.googleapis.com/guardhouse_automation_bucket/9eb3c337-bccf-400b-920e-60c7ff2a42b4/documentos/21.jpg.\n",
      "Imagem 23.jpg enviada para https://storage.googleapis.com/guardhouse_automation_bucket/9eb3c337-bccf-400b-920e-60c7ff2a42b4/documentos/23.jpg.\n",
      "Imagem 24.jpg enviada para https://storage.googleapis.com/guardhouse_automation_bucket/9eb3c337-bccf-400b-920e-60c7ff2a42b4/documentos/24.jpg.\n",
      "Imagem 25.jpg enviada para https://storage.googleapis.com/guardhouse_automation_bucket/9eb3c337-bccf-400b-920e-60c7ff2a42b4/documentos/25.jpg.\n",
      "Imagem 26.jpg enviada para https://storage.googleapis.com/guardhouse_automation_bucket/9eb3c337-bccf-400b-920e-60c7ff2a42b4/documentos/26.jpg.\n",
      "Imagem 3.jpg enviada para https://storage.googleapis.com/guardhouse_automation_bucket/9eb3c337-bccf-400b-920e-60c7ff2a42b4/documentos/3.jpg.\n",
      "Imagem 4.jpg enviada para https://storage.googleapis.com/guardhouse_automation_bucket/9eb3c337-bccf-400b-920e-60c7ff2a42b4/documentos/4.jpg.\n",
      "Imagem 5.jpg enviada para https://storage.googleapis.com/guardhouse_automation_bucket/9eb3c337-bccf-400b-920e-60c7ff2a42b4/documentos/5.jpg.\n",
      "Imagem 7.jpg enviada para https://storage.googleapis.com/guardhouse_automation_bucket/9eb3c337-bccf-400b-920e-60c7ff2a42b4/documentos/7.jpg.\n",
      "Imagem 8.jpg enviada para https://storage.googleapis.com/guardhouse_automation_bucket/9eb3c337-bccf-400b-920e-60c7ff2a42b4/documentos/8.jpg.\n",
      "Imagem 9.jpg enviada para https://storage.googleapis.com/guardhouse_automation_bucket/9eb3c337-bccf-400b-920e-60c7ff2a42b4/documentos/9.jpg.\n",
      "Imagem 10.jpg enviada para https://storage.googleapis.com/guardhouse_automation_bucket/9eb3c337-bccf-400b-920e-60c7ff2a42b4/placas/10.jpg.\n",
      "Imagem 11.jpg enviada para https://storage.googleapis.com/guardhouse_automation_bucket/9eb3c337-bccf-400b-920e-60c7ff2a42b4/placas/11.jpg.\n",
      "Imagem 12.jpg enviada para https://storage.googleapis.com/guardhouse_automation_bucket/9eb3c337-bccf-400b-920e-60c7ff2a42b4/placas/12.jpg.\n",
      "Imagem 13.jpg enviada para https://storage.googleapis.com/guardhouse_automation_bucket/9eb3c337-bccf-400b-920e-60c7ff2a42b4/placas/13.jpg.\n",
      "Imagem 14.jpg enviada para https://storage.googleapis.com/guardhouse_automation_bucket/9eb3c337-bccf-400b-920e-60c7ff2a42b4/placas/14.jpg.\n",
      "Imagem 15.jpg enviada para https://storage.googleapis.com/guardhouse_automation_bucket/9eb3c337-bccf-400b-920e-60c7ff2a42b4/placas/15.jpg.\n",
      "Imagem 16.jpg enviada para https://storage.googleapis.com/guardhouse_automation_bucket/9eb3c337-bccf-400b-920e-60c7ff2a42b4/placas/16.jpg.\n",
      "Imagem 17.jpg enviada para https://storage.googleapis.com/guardhouse_automation_bucket/9eb3c337-bccf-400b-920e-60c7ff2a42b4/placas/17.jpg.\n",
      "Imagem 18.jpg enviada para https://storage.googleapis.com/guardhouse_automation_bucket/9eb3c337-bccf-400b-920e-60c7ff2a42b4/placas/18.jpg.\n",
      "Imagem 2.jpg enviada para https://storage.googleapis.com/guardhouse_automation_bucket/9eb3c337-bccf-400b-920e-60c7ff2a42b4/placas/2.jpg.\n",
      "Imagem 20.jpg enviada para https://storage.googleapis.com/guardhouse_automation_bucket/9eb3c337-bccf-400b-920e-60c7ff2a42b4/placas/20.jpg.\n",
      "Imagem 21.jpg enviada para https://storage.googleapis.com/guardhouse_automation_bucket/9eb3c337-bccf-400b-920e-60c7ff2a42b4/placas/21.jpg.\n",
      "Imagem 22.jpg enviada para https://storage.googleapis.com/guardhouse_automation_bucket/9eb3c337-bccf-400b-920e-60c7ff2a42b4/placas/22.jpg.\n",
      "Imagem 23.jpg enviada para https://storage.googleapis.com/guardhouse_automation_bucket/9eb3c337-bccf-400b-920e-60c7ff2a42b4/placas/23.jpg.\n",
      "Imagem 24.jpg enviada para https://storage.googleapis.com/guardhouse_automation_bucket/9eb3c337-bccf-400b-920e-60c7ff2a42b4/placas/24.jpg.\n",
      "Imagem 25.jpg enviada para https://storage.googleapis.com/guardhouse_automation_bucket/9eb3c337-bccf-400b-920e-60c7ff2a42b4/placas/25.jpg.\n",
      "Imagem 26.jpg enviada para https://storage.googleapis.com/guardhouse_automation_bucket/9eb3c337-bccf-400b-920e-60c7ff2a42b4/placas/26.jpg.\n",
      "Imagem 3.jpg enviada para https://storage.googleapis.com/guardhouse_automation_bucket/9eb3c337-bccf-400b-920e-60c7ff2a42b4/placas/3.jpg.\n",
      "Imagem 4.jpg enviada para https://storage.googleapis.com/guardhouse_automation_bucket/9eb3c337-bccf-400b-920e-60c7ff2a42b4/placas/4.jpg.\n",
      "Imagem 5.jpg enviada para https://storage.googleapis.com/guardhouse_automation_bucket/9eb3c337-bccf-400b-920e-60c7ff2a42b4/placas/5.jpg.\n",
      "Imagem 6.jpg enviada para https://storage.googleapis.com/guardhouse_automation_bucket/9eb3c337-bccf-400b-920e-60c7ff2a42b4/placas/6.jpg.\n",
      "Imagem 8.jpg enviada para https://storage.googleapis.com/guardhouse_automation_bucket/9eb3c337-bccf-400b-920e-60c7ff2a42b4/placas/8.jpg.\n",
      "Imagem 9.jpg enviada para https://storage.googleapis.com/guardhouse_automation_bucket/9eb3c337-bccf-400b-920e-60c7ff2a42b4/placas/9.jpg.\n",
      "UUID para rastreamento:  9eb3c337-bccf-400b-920e-60c7ff2a42b4\n",
      "['https://storage.googleapis.com/guardhouse_automation_bucket/9eb3c337-bccf-400b-920e-60c7ff2a42b4/documentos/1.jpg', 'https://storage.googleapis.com/guardhouse_automation_bucket/9eb3c337-bccf-400b-920e-60c7ff2a42b4/documentos/10.jpg', 'https://storage.googleapis.com/guardhouse_automation_bucket/9eb3c337-bccf-400b-920e-60c7ff2a42b4/documentos/11.jpg', 'https://storage.googleapis.com/guardhouse_automation_bucket/9eb3c337-bccf-400b-920e-60c7ff2a42b4/documentos/13.jpg', 'https://storage.googleapis.com/guardhouse_automation_bucket/9eb3c337-bccf-400b-920e-60c7ff2a42b4/documentos/14.jpg', 'https://storage.googleapis.com/guardhouse_automation_bucket/9eb3c337-bccf-400b-920e-60c7ff2a42b4/documentos/15.jpg', 'https://storage.googleapis.com/guardhouse_automation_bucket/9eb3c337-bccf-400b-920e-60c7ff2a42b4/documentos/16.jpg', 'https://storage.googleapis.com/guardhouse_automation_bucket/9eb3c337-bccf-400b-920e-60c7ff2a42b4/documentos/17.jpg', 'https://storage.googleapis.com/guardhouse_automation_bucket/9eb3c337-bccf-400b-920e-60c7ff2a42b4/documentos/18.jpg', 'https://storage.googleapis.com/guardhouse_automation_bucket/9eb3c337-bccf-400b-920e-60c7ff2a42b4/documentos/19.jpg', 'https://storage.googleapis.com/guardhouse_automation_bucket/9eb3c337-bccf-400b-920e-60c7ff2a42b4/documentos/2.jpg', 'https://storage.googleapis.com/guardhouse_automation_bucket/9eb3c337-bccf-400b-920e-60c7ff2a42b4/documentos/20.jpg', 'https://storage.googleapis.com/guardhouse_automation_bucket/9eb3c337-bccf-400b-920e-60c7ff2a42b4/documentos/21.jpg', 'https://storage.googleapis.com/guardhouse_automation_bucket/9eb3c337-bccf-400b-920e-60c7ff2a42b4/documentos/23.jpg', 'https://storage.googleapis.com/guardhouse_automation_bucket/9eb3c337-bccf-400b-920e-60c7ff2a42b4/documentos/24.jpg', 'https://storage.googleapis.com/guardhouse_automation_bucket/9eb3c337-bccf-400b-920e-60c7ff2a42b4/documentos/25.jpg', 'https://storage.googleapis.com/guardhouse_automation_bucket/9eb3c337-bccf-400b-920e-60c7ff2a42b4/documentos/26.jpg', 'https://storage.googleapis.com/guardhouse_automation_bucket/9eb3c337-bccf-400b-920e-60c7ff2a42b4/documentos/3.jpg', 'https://storage.googleapis.com/guardhouse_automation_bucket/9eb3c337-bccf-400b-920e-60c7ff2a42b4/documentos/4.jpg', 'https://storage.googleapis.com/guardhouse_automation_bucket/9eb3c337-bccf-400b-920e-60c7ff2a42b4/documentos/5.jpg', 'https://storage.googleapis.com/guardhouse_automation_bucket/9eb3c337-bccf-400b-920e-60c7ff2a42b4/documentos/7.jpg', 'https://storage.googleapis.com/guardhouse_automation_bucket/9eb3c337-bccf-400b-920e-60c7ff2a42b4/documentos/8.jpg', 'https://storage.googleapis.com/guardhouse_automation_bucket/9eb3c337-bccf-400b-920e-60c7ff2a42b4/documentos/9.jpg']\n",
      "['https://storage.googleapis.com/guardhouse_automation_bucket/9eb3c337-bccf-400b-920e-60c7ff2a42b4/placas/10.jpg', 'https://storage.googleapis.com/guardhouse_automation_bucket/9eb3c337-bccf-400b-920e-60c7ff2a42b4/placas/11.jpg', 'https://storage.googleapis.com/guardhouse_automation_bucket/9eb3c337-bccf-400b-920e-60c7ff2a42b4/placas/12.jpg', 'https://storage.googleapis.com/guardhouse_automation_bucket/9eb3c337-bccf-400b-920e-60c7ff2a42b4/placas/13.jpg', 'https://storage.googleapis.com/guardhouse_automation_bucket/9eb3c337-bccf-400b-920e-60c7ff2a42b4/placas/14.jpg', 'https://storage.googleapis.com/guardhouse_automation_bucket/9eb3c337-bccf-400b-920e-60c7ff2a42b4/placas/15.jpg', 'https://storage.googleapis.com/guardhouse_automation_bucket/9eb3c337-bccf-400b-920e-60c7ff2a42b4/placas/16.jpg', 'https://storage.googleapis.com/guardhouse_automation_bucket/9eb3c337-bccf-400b-920e-60c7ff2a42b4/placas/17.jpg', 'https://storage.googleapis.com/guardhouse_automation_bucket/9eb3c337-bccf-400b-920e-60c7ff2a42b4/placas/18.jpg', 'https://storage.googleapis.com/guardhouse_automation_bucket/9eb3c337-bccf-400b-920e-60c7ff2a42b4/placas/2.jpg', 'https://storage.googleapis.com/guardhouse_automation_bucket/9eb3c337-bccf-400b-920e-60c7ff2a42b4/placas/20.jpg', 'https://storage.googleapis.com/guardhouse_automation_bucket/9eb3c337-bccf-400b-920e-60c7ff2a42b4/placas/21.jpg', 'https://storage.googleapis.com/guardhouse_automation_bucket/9eb3c337-bccf-400b-920e-60c7ff2a42b4/placas/22.jpg', 'https://storage.googleapis.com/guardhouse_automation_bucket/9eb3c337-bccf-400b-920e-60c7ff2a42b4/placas/23.jpg', 'https://storage.googleapis.com/guardhouse_automation_bucket/9eb3c337-bccf-400b-920e-60c7ff2a42b4/placas/24.jpg', 'https://storage.googleapis.com/guardhouse_automation_bucket/9eb3c337-bccf-400b-920e-60c7ff2a42b4/placas/25.jpg', 'https://storage.googleapis.com/guardhouse_automation_bucket/9eb3c337-bccf-400b-920e-60c7ff2a42b4/placas/26.jpg', 'https://storage.googleapis.com/guardhouse_automation_bucket/9eb3c337-bccf-400b-920e-60c7ff2a42b4/placas/3.jpg', 'https://storage.googleapis.com/guardhouse_automation_bucket/9eb3c337-bccf-400b-920e-60c7ff2a42b4/placas/4.jpg', 'https://storage.googleapis.com/guardhouse_automation_bucket/9eb3c337-bccf-400b-920e-60c7ff2a42b4/placas/5.jpg', 'https://storage.googleapis.com/guardhouse_automation_bucket/9eb3c337-bccf-400b-920e-60c7ff2a42b4/placas/6.jpg', 'https://storage.googleapis.com/guardhouse_automation_bucket/9eb3c337-bccf-400b-920e-60c7ff2a42b4/placas/8.jpg', 'https://storage.googleapis.com/guardhouse_automation_bucket/9eb3c337-bccf-400b-920e-60c7ff2a42b4/placas/9.jpg']\n"
     ]
    }
   ],
   "source": [
    "# Exemplo de uso\n",
    "docs_paths, plates_paths = list_files(verbose=False)\n",
    "uuid_gerado = generate_uuid()\n",
    "links_documentos = upload_imgs(docs_paths,'documentos', uuid_gerado)\n",
    "links_placas = upload_imgs(plates_paths,'placas', uuid_gerado)\n",
    "# ... (Processar as imagens com a API do Vertex AI) ...\n",
    "print(\"UUID para rastreamento: \",uuid_gerado)\n",
    "#deletar_pastas(uuid_gerado)\n",
    "print(links_documentos)\n",
    "print(links_placas)"
   ]
  }
 ],
 "metadata": {
  "kernelspec": {
   "display_name": "GuardhouseAutomation",
   "language": "python",
   "name": "python3"
  },
  "language_info": {
   "codemirror_mode": {
    "name": "ipython",
    "version": 3
   },
   "file_extension": ".py",
   "mimetype": "text/x-python",
   "name": "python",
   "nbconvert_exporter": "python",
   "pygments_lexer": "ipython3",
   "version": "3.10.16"
  }
 },
 "nbformat": 4,
 "nbformat_minor": 2
}
